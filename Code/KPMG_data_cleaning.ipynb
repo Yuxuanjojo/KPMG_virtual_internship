{
 "cells": [
  {
   "cell_type": "code",
   "execution_count": 24,
   "metadata": {
    "collapsed": true
   },
   "outputs": [],
   "source": [
    "import pandas as pd\n",
    "# import openpyxl\n",
    "import matplotlib as plot\n"
   ]
  },
  {
   "cell_type": "code",
   "execution_count": 25,
   "outputs": [
    {
     "name": "stderr",
     "output_type": "stream",
     "text": [
      "C:\\Users\\M1820\\AppData\\Local\\Temp\\ipykernel_12164\\824455612.py:4: FutureWarning: Inferring datetime64[ns] from data containing strings is deprecated and will be removed in a future version. To retain the old behavior explicitly pass Series(data, dtype=datetime64[ns])\n",
      "  CustomerDemographic0 = pd.read_excel(path, sheet_name=\"CustomerDemographic\")\n"
     ]
    },
    {
     "name": "stdout",
     "output_type": "stream",
     "text": [
      "  first_name   last_name  gender  past_3_years_bike_related_purchases  \\\n",
      "0    Marinna    Kauschke  Female                                   21   \n",
      "1       Olia   O' Mullan  Female                                   77   \n",
      "2   Brigitte    Whellams  Female                                   67   \n",
      "3        Ivy        Farr  Female                                   56   \n",
      "4   Beverlee  Ungerechts  Female                                   49   \n",
      "\n",
      "         DOB                       job_title job_industry_category  \\\n",
      "0 1973-03-15                 Sales Associate    Financial Services   \n",
      "1 1973-03-24               Account Executive                Health   \n",
      "2 1973-05-09  Payment Adjustment Coordinator                   NaN   \n",
      "3 1973-07-03             Office Assistant IV                    IT   \n",
      "4 1973-10-03                  Civil Engineer         Manufacturing   \n",
      "\n",
      "      wealth_segment deceased_indicator owns_car  ...  state    country  \\\n",
      "0  Affluent Customer                  N      Yes  ...    VIC  Australia   \n",
      "1      Mass Customer                  N       No  ...    NSW  Australia   \n",
      "2      Mass Customer                  N      Yes  ...    NSW  Australia   \n",
      "3     High Net Worth                  N       No  ...    NSW  Australia   \n",
      "4      Mass Customer                  N       No  ...    QLD  Australia   \n",
      "\n",
      "   property_valuation Unnamed: 16 Unnamed: 17  Unnamed: 18  Unnamed: 19  \\\n",
      "0                   3        0.76        0.95       0.9500       0.9500   \n",
      "1                   7        0.88        0.88       0.8800       0.7480   \n",
      "2                   8        0.96        1.20       1.2000       1.0200   \n",
      "3                  11        0.87        0.87       1.0875       1.0875   \n",
      "4                   7        0.88        0.88       0.8800       0.7480   \n",
      "\n",
      "   Unnamed: 20  Rank     Value  \n",
      "0          234   595  0.775625  \n",
      "1           89   904  0.500000  \n",
      "2          156   188  1.156250  \n",
      "3          248   530  0.828750  \n",
      "4          235   617  0.754375  \n",
      "\n",
      "[5 rows x 23 columns]\n",
      "======================\n",
      "   transaction_id  product_id  customer_id transaction_date  online_order  \\\n",
      "0               1           2         2950       2017-02-25           0.0   \n",
      "1               2           3         3120       2017-05-21           1.0   \n",
      "2               3          37          402       2017-10-16           0.0   \n",
      "3               4          88         3135       2017-08-31           0.0   \n",
      "4               5          78          787       2017-10-01           1.0   \n",
      "\n",
      "  order_status           brand product_line product_class product_size  \\\n",
      "0     Approved           Solex     Standard        medium       medium   \n",
      "1     Approved   Trek Bicycles     Standard        medium        large   \n",
      "2     Approved      OHM Cycles     Standard           low       medium   \n",
      "3     Approved  Norco Bicycles     Standard        medium       medium   \n",
      "4     Approved  Giant Bicycles     Standard        medium        large   \n",
      "\n",
      "   list_price  standard_cost product_first_sold_date  \n",
      "0       71.49          53.62              2012-12-02  \n",
      "1     2091.47         388.92              2014-03-03  \n",
      "2     1793.43         248.82              1999-07-20  \n",
      "3     1198.46         381.10              1998-12-16  \n",
      "4     1765.30         709.48              2015-08-10  \n",
      "======================\n",
      "   customer_id first_name last_name  gender  \\\n",
      "0          720     Darrel     Canet    Male   \n",
      "1         1092     Katlin   Creddon  Female   \n",
      "2         3410    Merrili   Brittin  Female   \n",
      "3         2413      Abbey    Murrow    Male   \n",
      "4          658       Donn   Bonnell    Male   \n",
      "\n",
      "   past_3_years_bike_related_purchases        DOB   Age  \\\n",
      "0                                   67 1931-10-23  91.0   \n",
      "1                                   56 1935-08-22  87.0   \n",
      "2                                   93 1940-09-22  82.0   \n",
      "3                                   27 1943-08-11  79.0   \n",
      "4                                   38 1944-01-24  78.0   \n",
      "\n",
      "                  job_title job_industry_category     wealth_segment  \\\n",
      "0        Recruiting Manager                Retail  Affluent Customer   \n",
      "1        VP Quality Control                Retail      Mass Customer   \n",
      "2                       NaN              Property      Mass Customer   \n",
      "3  Environmental Specialist         Manufacturing     High Net Worth   \n",
      "4            Tax Accountant         Manufacturing  Affluent Customer   \n",
      "\n",
      "  deceased_indicator owns_car  tenure  \n",
      "0                  N       No     6.0  \n",
      "1                  N       No     5.0  \n",
      "2                  N       No    16.0  \n",
      "3                  N      Yes    17.0  \n",
      "4                  N      Yes     8.0  \n",
      "======================\n",
      "   customer_id              address  postcode state    country  \\\n",
      "0            1   060 Morning Avenue      2016   NSW  Australia   \n",
      "1            2  6 Meadow Vale Court      2153   NSW  Australia   \n",
      "2            4   0 Holy Cross Court      4211   QLD  Australia   \n",
      "3            5  17979 Del Mar Point      2448   NSW  Australia   \n",
      "4            6     9 Oakridge Court      3216   VIC  Australia   \n",
      "\n",
      "   property_valuation  \n",
      "0                  10  \n",
      "1                  10  \n",
      "2                   9  \n",
      "3                   4  \n",
      "4                   9  \n"
     ]
    }
   ],
   "source": [
    "path = \"..\\\\Data\\\\KPMG_VI_New_raw_data_update_final.xlsx\"\n",
    "NewCustomerList0 = pd.read_excel(path, sheet_name=\"NewCustomerList\")\n",
    "Transactions0 = pd.read_excel(path, sheet_name=\"Transactions\")\n",
    "CustomerDemographic0 = pd.read_excel(path, sheet_name=\"CustomerDemographic\")\n",
    "CustomerAddress0 = pd.read_excel(path, sheet_name=\"CustomerAddress\")\n",
    "\n",
    "# This is to check the basic info for each sheet\n",
    "print(NewCustomerList0.head(5))\n",
    "print(\"======================\")\n",
    "print(Transactions0.head(5))\n",
    "print(\"======================\")\n",
    "print(CustomerDemographic0.head(5))\n",
    "print(\"======================\")\n",
    "print(CustomerAddress0.head(5))"
   ],
   "metadata": {
    "collapsed": false
   }
  },
  {
   "cell_type": "code",
   "execution_count": 26,
   "outputs": [
    {
     "name": "stdout",
     "output_type": "stream",
     "text": [
      "<class 'pandas.core.frame.DataFrame'>\n",
      "RangeIndex: 1000 entries, 0 to 999\n",
      "Data columns (total 23 columns):\n",
      " #   Column                               Non-Null Count  Dtype         \n",
      "---  ------                               --------------  -----         \n",
      " 0   first_name                           1000 non-null   object        \n",
      " 1   last_name                            971 non-null    object        \n",
      " 2   gender                               1000 non-null   object        \n",
      " 3   past_3_years_bike_related_purchases  1000 non-null   int64         \n",
      " 4   DOB                                  983 non-null    datetime64[ns]\n",
      " 5   job_title                            894 non-null    object        \n",
      " 6   job_industry_category                835 non-null    object        \n",
      " 7   wealth_segment                       1000 non-null   object        \n",
      " 8   deceased_indicator                   1000 non-null   object        \n",
      " 9   owns_car                             1000 non-null   object        \n",
      " 10  tenure                               1000 non-null   int64         \n",
      " 11  address                              1000 non-null   object        \n",
      " 12  postcode                             1000 non-null   int64         \n",
      " 13  state                                1000 non-null   object        \n",
      " 14  country                              1000 non-null   object        \n",
      " 15  property_valuation                   1000 non-null   int64         \n",
      " 16  Unnamed: 16                          1000 non-null   float64       \n",
      " 17  Unnamed: 17                          1000 non-null   float64       \n",
      " 18  Unnamed: 18                          1000 non-null   float64       \n",
      " 19  Unnamed: 19                          1000 non-null   float64       \n",
      " 20  Unnamed: 20                          1000 non-null   int64         \n",
      " 21  Rank                                 1000 non-null   int64         \n",
      " 22  Value                                1000 non-null   float64       \n",
      "dtypes: datetime64[ns](1), float64(5), int64(6), object(11)\n",
      "memory usage: 179.8+ KB\n",
      "======================\n",
      "<class 'pandas.core.frame.DataFrame'>\n",
      "RangeIndex: 20000 entries, 0 to 19999\n",
      "Data columns (total 13 columns):\n",
      " #   Column                   Non-Null Count  Dtype         \n",
      "---  ------                   --------------  -----         \n",
      " 0   transaction_id           20000 non-null  int64         \n",
      " 1   product_id               20000 non-null  int64         \n",
      " 2   customer_id              20000 non-null  int64         \n",
      " 3   transaction_date         20000 non-null  datetime64[ns]\n",
      " 4   online_order             19640 non-null  float64       \n",
      " 5   order_status             20000 non-null  object        \n",
      " 6   brand                    19803 non-null  object        \n",
      " 7   product_line             19803 non-null  object        \n",
      " 8   product_class            19803 non-null  object        \n",
      " 9   product_size             19803 non-null  object        \n",
      " 10  list_price               20000 non-null  float64       \n",
      " 11  standard_cost            19803 non-null  float64       \n",
      " 12  product_first_sold_date  19803 non-null  datetime64[ns]\n",
      "dtypes: datetime64[ns](2), float64(3), int64(3), object(5)\n",
      "memory usage: 2.0+ MB\n",
      "======================\n",
      "<class 'pandas.core.frame.DataFrame'>\n",
      "RangeIndex: 4000 entries, 0 to 3999\n",
      "Data columns (total 13 columns):\n",
      " #   Column                               Non-Null Count  Dtype         \n",
      "---  ------                               --------------  -----         \n",
      " 0   customer_id                          4000 non-null   int64         \n",
      " 1   first_name                           4000 non-null   object        \n",
      " 2   last_name                            3875 non-null   object        \n",
      " 3   gender                               4000 non-null   object        \n",
      " 4   past_3_years_bike_related_purchases  4000 non-null   int64         \n",
      " 5   DOB                                  3913 non-null   datetime64[ns]\n",
      " 6   Age                                  3999 non-null   float64       \n",
      " 7   job_title                            3494 non-null   object        \n",
      " 8   job_industry_category                3344 non-null   object        \n",
      " 9   wealth_segment                       4000 non-null   object        \n",
      " 10  deceased_indicator                   4000 non-null   object        \n",
      " 11  owns_car                             4000 non-null   object        \n",
      " 12  tenure                               3913 non-null   float64       \n",
      "dtypes: datetime64[ns](1), float64(2), int64(2), object(8)\n",
      "memory usage: 406.4+ KB\n",
      "======================\n",
      "<class 'pandas.core.frame.DataFrame'>\n",
      "RangeIndex: 3999 entries, 0 to 3998\n",
      "Data columns (total 6 columns):\n",
      " #   Column              Non-Null Count  Dtype \n",
      "---  ------              --------------  ----- \n",
      " 0   customer_id         3999 non-null   int64 \n",
      " 1   address             3999 non-null   object\n",
      " 2   postcode            3999 non-null   int64 \n",
      " 3   state               3999 non-null   object\n",
      " 4   country             3999 non-null   object\n",
      " 5   property_valuation  3999 non-null   int64 \n",
      "dtypes: int64(3), object(3)\n",
      "memory usage: 187.6+ KB\n"
     ]
    }
   ],
   "source": [
    "NewCustomerList0.info()\n",
    "print(\"======================\")\n",
    "Transactions0.info()\n",
    "print(\"======================\")\n",
    "CustomerDemographic0.info()\n",
    "print(\"======================\")\n",
    "CustomerAddress0.info()"
   ],
   "metadata": {
    "collapsed": false
   }
  },
  {
   "cell_type": "code",
   "execution_count": 27,
   "outputs": [],
   "source": [
    "NewCustomerList = NewCustomerList0.dropna()\n",
    "Transactions = Transactions0.dropna()\n",
    "CustomerDemographic = CustomerDemographic0.dropna()\n",
    "CustomerAddress = CustomerAddress0.dropna()"
   ],
   "metadata": {
    "collapsed": false
   }
  },
  {
   "cell_type": "code",
   "execution_count": 28,
   "outputs": [],
   "source": [
    "# from datetime import date\n",
    "#\n",
    "# def calculate_age(born):\n",
    "#     today = date.today()\n",
    "#     return today.year - CustomerDemographic[\"DOB\"] - ((today.month, today.day) < (born.month, born.day))\n",
    "# CustomerDemographic[\"Age\"] = calculate_age(CustomerDemographic[\"DOB\"])"
   ],
   "metadata": {
    "collapsed": false
   }
  },
  {
   "cell_type": "code",
   "execution_count": 29,
   "outputs": [
    {
     "name": "stderr",
     "output_type": "stream",
     "text": [
      "C:\\Users\\M1820\\AppData\\Local\\Temp\\ipykernel_12164\\3621556789.py:1: FutureWarning: The default value of numeric_only in DataFrame.corr is deprecated. In a future version, it will default to False. Select only valid columns or specify the value of numeric_only to silence this warning.\n",
      "  CustomerDemographic.corr()\n"
     ]
    },
    {
     "data": {
      "text/plain": "                                     customer_id  \\\ncustomer_id                             1.000000   \npast_3_years_bike_related_purchases    -0.002652   \nAge                                     0.011278   \ntenure                                 -0.020023   \n\n                                     past_3_years_bike_related_purchases  \\\ncustomer_id                                                    -0.002652   \npast_3_years_bike_related_purchases                             1.000000   \nAge                                                            -0.037559   \ntenure                                                         -0.020087   \n\n                                          Age    tenure  \ncustomer_id                          0.011278 -0.020023  \npast_3_years_bike_related_purchases -0.037559 -0.020087  \nAge                                  1.000000  0.424613  \ntenure                               0.424613  1.000000  ",
      "text/html": "<div>\n<style scoped>\n    .dataframe tbody tr th:only-of-type {\n        vertical-align: middle;\n    }\n\n    .dataframe tbody tr th {\n        vertical-align: top;\n    }\n\n    .dataframe thead th {\n        text-align: right;\n    }\n</style>\n<table border=\"1\" class=\"dataframe\">\n  <thead>\n    <tr style=\"text-align: right;\">\n      <th></th>\n      <th>customer_id</th>\n      <th>past_3_years_bike_related_purchases</th>\n      <th>Age</th>\n      <th>tenure</th>\n    </tr>\n  </thead>\n  <tbody>\n    <tr>\n      <th>customer_id</th>\n      <td>1.000000</td>\n      <td>-0.002652</td>\n      <td>0.011278</td>\n      <td>-0.020023</td>\n    </tr>\n    <tr>\n      <th>past_3_years_bike_related_purchases</th>\n      <td>-0.002652</td>\n      <td>1.000000</td>\n      <td>-0.037559</td>\n      <td>-0.020087</td>\n    </tr>\n    <tr>\n      <th>Age</th>\n      <td>0.011278</td>\n      <td>-0.037559</td>\n      <td>1.000000</td>\n      <td>0.424613</td>\n    </tr>\n    <tr>\n      <th>tenure</th>\n      <td>-0.020023</td>\n      <td>-0.020087</td>\n      <td>0.424613</td>\n      <td>1.000000</td>\n    </tr>\n  </tbody>\n</table>\n</div>"
     },
     "execution_count": 29,
     "metadata": {},
     "output_type": "execute_result"
    }
   ],
   "source": [
    "CustomerDemographic.corr()"
   ],
   "metadata": {
    "collapsed": false
   }
  }
 ],
 "metadata": {
  "kernelspec": {
   "display_name": "Python 3",
   "language": "python",
   "name": "python3"
  },
  "language_info": {
   "codemirror_mode": {
    "name": "ipython",
    "version": 2
   },
   "file_extension": ".py",
   "mimetype": "text/x-python",
   "name": "python",
   "nbconvert_exporter": "python",
   "pygments_lexer": "ipython2",
   "version": "2.7.6"
  }
 },
 "nbformat": 4,
 "nbformat_minor": 0
}
