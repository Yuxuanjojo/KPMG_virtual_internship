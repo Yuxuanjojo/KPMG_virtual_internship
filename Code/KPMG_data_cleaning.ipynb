{
 "cells": [
  {
   "cell_type": "code",
   "execution_count": 61,
   "metadata": {
    "collapsed": true
   },
   "outputs": [],
   "source": [
    "import pandas as pd\n",
    "# import openpyxl\n",
    "import matplotlib as plot\n"
   ]
  },
  {
   "cell_type": "code",
   "execution_count": 62,
   "outputs": [
    {
     "name": "stderr",
     "output_type": "stream",
     "text": [
      "C:\\Users\\M1820\\AppData\\Local\\Temp\\ipykernel_12164\\824455612.py:4: FutureWarning: Inferring datetime64[ns] from data containing strings is deprecated and will be removed in a future version. To retain the old behavior explicitly pass Series(data, dtype=datetime64[ns])\n",
      "  CustomerDemographic0 = pd.read_excel(path, sheet_name=\"CustomerDemographic\")\n"
     ]
    },
    {
     "name": "stdout",
     "output_type": "stream",
     "text": [
      "  first_name   last_name  gender  past_3_years_bike_related_purchases  \\\n",
      "0    Marinna    Kauschke  Female                                   21   \n",
      "1       Olia   O' Mullan  Female                                   77   \n",
      "2   Brigitte    Whellams  Female                                   67   \n",
      "3        Ivy        Farr  Female                                   56   \n",
      "4   Beverlee  Ungerechts  Female                                   49   \n",
      "\n",
      "         DOB                       job_title job_industry_category  \\\n",
      "0 1973-03-15                 Sales Associate    Financial Services   \n",
      "1 1973-03-24               Account Executive                Health   \n",
      "2 1973-05-09  Payment Adjustment Coordinator                   NaN   \n",
      "3 1973-07-03             Office Assistant IV                    IT   \n",
      "4 1973-10-03                  Civil Engineer         Manufacturing   \n",
      "\n",
      "      wealth_segment deceased_indicator owns_car  ...  state    country  \\\n",
      "0  Affluent Customer                  N      Yes  ...    VIC  Australia   \n",
      "1      Mass Customer                  N       No  ...    NSW  Australia   \n",
      "2      Mass Customer                  N      Yes  ...    NSW  Australia   \n",
      "3     High Net Worth                  N       No  ...    NSW  Australia   \n",
      "4      Mass Customer                  N       No  ...    QLD  Australia   \n",
      "\n",
      "   property_valuation Unnamed: 16 Unnamed: 17  Unnamed: 18  Unnamed: 19  \\\n",
      "0                   3        0.43      0.5375       0.5375     0.537500   \n",
      "1                   7        0.91      0.9100       0.9100     0.773500   \n",
      "2                   8        0.81      1.0125       1.0125     0.860625   \n",
      "3                  11        0.51      0.5100       0.6375     0.637500   \n",
      "4                   7        0.62      0.6200       0.6200     0.527000   \n",
      "\n",
      "   Unnamed: 20  Rank     Value  \n",
      "0          234   595  0.775625  \n",
      "1           89   904  0.500000  \n",
      "2          156   188  1.156250  \n",
      "3          248   530  0.828750  \n",
      "4          235   617  0.754375  \n",
      "\n",
      "[5 rows x 23 columns]\n",
      "======================\n",
      "   transaction_id  product_id  customer_id transaction_date  online_order  \\\n",
      "0               1           2         2950       2017-02-25           0.0   \n",
      "1               2           3         3120       2017-05-21           1.0   \n",
      "2               3          37          402       2017-10-16           0.0   \n",
      "3               4          88         3135       2017-08-31           0.0   \n",
      "4               5          78          787       2017-10-01           1.0   \n",
      "\n",
      "  order_status           brand product_line product_class product_size  \\\n",
      "0     Approved           Solex     Standard        medium       medium   \n",
      "1     Approved   Trek Bicycles     Standard        medium        large   \n",
      "2     Approved      OHM Cycles     Standard           low       medium   \n",
      "3     Approved  Norco Bicycles     Standard        medium       medium   \n",
      "4     Approved  Giant Bicycles     Standard        medium        large   \n",
      "\n",
      "   list_price  standard_cost   Profit product_first_sold_date  \n",
      "0       71.49          53.62    17.87              2012-12-02  \n",
      "1     2091.47         388.92  1702.55              2014-03-03  \n",
      "2     1793.43         248.82  1544.61              1999-07-20  \n",
      "3     1198.46         381.10   817.36              1998-12-16  \n",
      "4     1765.30         709.48  1055.82              2015-08-10  \n",
      "======================\n",
      "   customer_id first_name last_name  gender  \\\n",
      "0          720     Darrel     Canet    Male   \n",
      "1         1092     Katlin   Creddon  Female   \n",
      "2         3410    Merrili   Brittin  Female   \n",
      "3         2413      Abbey    Murrow    Male   \n",
      "4          658       Donn   Bonnell    Male   \n",
      "\n",
      "   past_3_years_bike_related_purchases        DOB   Age  \\\n",
      "0                                   67 1931-10-23  91.0   \n",
      "1                                   56 1935-08-22  87.0   \n",
      "2                                   93 1940-09-22  82.0   \n",
      "3                                   27 1943-08-11  79.0   \n",
      "4                                   38 1944-01-24  78.0   \n",
      "\n",
      "                  job_title job_industry_category     wealth_segment  \\\n",
      "0        Recruiting Manager                Retail  Affluent Customer   \n",
      "1        VP Quality Control                Retail      Mass Customer   \n",
      "2                       NaN              Property      Mass Customer   \n",
      "3  Environmental Specialist         Manufacturing     High Net Worth   \n",
      "4            Tax Accountant         Manufacturing  Affluent Customer   \n",
      "\n",
      "  deceased_indicator owns_car  tenure  \n",
      "0                  N       No     6.0  \n",
      "1                  N       No     5.0  \n",
      "2                  N       No    16.0  \n",
      "3                  N      Yes    17.0  \n",
      "4                  N      Yes     8.0  \n",
      "======================\n",
      "   customer_id              address  postcode state    country  \\\n",
      "0            1   060 Morning Avenue      2016   NSW  Australia   \n",
      "1            2  6 Meadow Vale Court      2153   NSW  Australia   \n",
      "2            4   0 Holy Cross Court      4211   QLD  Australia   \n",
      "3            5  17979 Del Mar Point      2448   NSW  Australia   \n",
      "4            6     9 Oakridge Court      3216   VIC  Australia   \n",
      "\n",
      "   property_valuation  \n",
      "0                  10  \n",
      "1                  10  \n",
      "2                   9  \n",
      "3                   4  \n",
      "4                   9  \n"
     ]
    }
   ],
   "source": [
    "path = \"..\\\\Data\\\\KPMG_VI_New_raw_data_update_final.xlsx\"\n",
    "NewCustomerList0 = pd.read_excel(path, sheet_name=\"NewCustomerList\")\n",
    "Transactions0 = pd.read_excel(path, sheet_name=\"Transactions\")\n",
    "CustomerDemographic0 = pd.read_excel(path, sheet_name=\"CustomerDemographic\")\n",
    "CustomerAddress0 = pd.read_excel(path, sheet_name=\"CustomerAddress\")\n",
    "\n",
    "# This is to check the basic info for each sheet\n",
    "print(NewCustomerList0.head(5))\n",
    "print(\"======================\")\n",
    "print(Transactions0.head(5))\n",
    "print(\"======================\")\n",
    "print(CustomerDemographic0.head(5))\n",
    "print(\"======================\")\n",
    "print(CustomerAddress0.head(5))"
   ],
   "metadata": {
    "collapsed": false
   }
  },
  {
   "cell_type": "code",
   "execution_count": 63,
   "outputs": [
    {
     "name": "stdout",
     "output_type": "stream",
     "text": [
      "<class 'pandas.core.frame.DataFrame'>\n",
      "RangeIndex: 1000 entries, 0 to 999\n",
      "Data columns (total 23 columns):\n",
      " #   Column                               Non-Null Count  Dtype         \n",
      "---  ------                               --------------  -----         \n",
      " 0   first_name                           1000 non-null   object        \n",
      " 1   last_name                            971 non-null    object        \n",
      " 2   gender                               1000 non-null   object        \n",
      " 3   past_3_years_bike_related_purchases  1000 non-null   int64         \n",
      " 4   DOB                                  983 non-null    datetime64[ns]\n",
      " 5   job_title                            894 non-null    object        \n",
      " 6   job_industry_category                835 non-null    object        \n",
      " 7   wealth_segment                       1000 non-null   object        \n",
      " 8   deceased_indicator                   1000 non-null   object        \n",
      " 9   owns_car                             1000 non-null   object        \n",
      " 10  tenure                               1000 non-null   int64         \n",
      " 11  address                              1000 non-null   object        \n",
      " 12  postcode                             1000 non-null   int64         \n",
      " 13  state                                1000 non-null   object        \n",
      " 14  country                              1000 non-null   object        \n",
      " 15  property_valuation                   1000 non-null   int64         \n",
      " 16  Unnamed: 16                          1000 non-null   float64       \n",
      " 17  Unnamed: 17                          1000 non-null   float64       \n",
      " 18  Unnamed: 18                          1000 non-null   float64       \n",
      " 19  Unnamed: 19                          1000 non-null   float64       \n",
      " 20  Unnamed: 20                          1000 non-null   int64         \n",
      " 21  Rank                                 1000 non-null   int64         \n",
      " 22  Value                                1000 non-null   float64       \n",
      "dtypes: datetime64[ns](1), float64(5), int64(6), object(11)\n",
      "memory usage: 179.8+ KB\n",
      "======================\n",
      "<class 'pandas.core.frame.DataFrame'>\n",
      "RangeIndex: 20000 entries, 0 to 19999\n",
      "Data columns (total 14 columns):\n",
      " #   Column                   Non-Null Count  Dtype         \n",
      "---  ------                   --------------  -----         \n",
      " 0   transaction_id           20000 non-null  int64         \n",
      " 1   product_id               20000 non-null  int64         \n",
      " 2   customer_id              20000 non-null  int64         \n",
      " 3   transaction_date         20000 non-null  datetime64[ns]\n",
      " 4   online_order             19640 non-null  float64       \n",
      " 5   order_status             20000 non-null  object        \n",
      " 6   brand                    19803 non-null  object        \n",
      " 7   product_line             19803 non-null  object        \n",
      " 8   product_class            19803 non-null  object        \n",
      " 9   product_size             19803 non-null  object        \n",
      " 10  list_price               20000 non-null  float64       \n",
      " 11  standard_cost            19803 non-null  float64       \n",
      " 12  Profit                   20000 non-null  float64       \n",
      " 13  product_first_sold_date  19803 non-null  datetime64[ns]\n",
      "dtypes: datetime64[ns](2), float64(4), int64(3), object(5)\n",
      "memory usage: 2.1+ MB\n",
      "======================\n",
      "<class 'pandas.core.frame.DataFrame'>\n",
      "RangeIndex: 4000 entries, 0 to 3999\n",
      "Data columns (total 13 columns):\n",
      " #   Column                               Non-Null Count  Dtype         \n",
      "---  ------                               --------------  -----         \n",
      " 0   customer_id                          4000 non-null   int64         \n",
      " 1   first_name                           4000 non-null   object        \n",
      " 2   last_name                            3875 non-null   object        \n",
      " 3   gender                               4000 non-null   object        \n",
      " 4   past_3_years_bike_related_purchases  4000 non-null   int64         \n",
      " 5   DOB                                  3913 non-null   datetime64[ns]\n",
      " 6   Age                                  3999 non-null   float64       \n",
      " 7   job_title                            3494 non-null   object        \n",
      " 8   job_industry_category                3344 non-null   object        \n",
      " 9   wealth_segment                       4000 non-null   object        \n",
      " 10  deceased_indicator                   4000 non-null   object        \n",
      " 11  owns_car                             4000 non-null   object        \n",
      " 12  tenure                               3913 non-null   float64       \n",
      "dtypes: datetime64[ns](1), float64(2), int64(2), object(8)\n",
      "memory usage: 406.4+ KB\n",
      "======================\n",
      "<class 'pandas.core.frame.DataFrame'>\n",
      "RangeIndex: 3999 entries, 0 to 3998\n",
      "Data columns (total 6 columns):\n",
      " #   Column              Non-Null Count  Dtype \n",
      "---  ------              --------------  ----- \n",
      " 0   customer_id         3999 non-null   int64 \n",
      " 1   address             3999 non-null   object\n",
      " 2   postcode            3999 non-null   int64 \n",
      " 3   state               3999 non-null   object\n",
      " 4   country             3999 non-null   object\n",
      " 5   property_valuation  3999 non-null   int64 \n",
      "dtypes: int64(3), object(3)\n",
      "memory usage: 187.6+ KB\n"
     ]
    }
   ],
   "source": [
    "NewCustomerList0.info()\n",
    "print(\"======================\")\n",
    "Transactions0.info()\n",
    "print(\"======================\")\n",
    "CustomerDemographic0.info()\n",
    "print(\"======================\")\n",
    "CustomerAddress0.info()"
   ],
   "metadata": {
    "collapsed": false
   }
  },
  {
   "cell_type": "code",
   "execution_count": 64,
   "outputs": [
    {
     "name": "stdout",
     "output_type": "stream",
     "text": [
      "<class 'pandas.core.frame.DataFrame'>\n",
      "Int64Index: 715 entries, 0 to 981\n",
      "Data columns (total 23 columns):\n",
      " #   Column                               Non-Null Count  Dtype         \n",
      "---  ------                               --------------  -----         \n",
      " 0   first_name                           715 non-null    object        \n",
      " 1   last_name                            715 non-null    object        \n",
      " 2   gender                               715 non-null    object        \n",
      " 3   past_3_years_bike_related_purchases  715 non-null    int64         \n",
      " 4   DOB                                  715 non-null    datetime64[ns]\n",
      " 5   job_title                            715 non-null    object        \n",
      " 6   job_industry_category                715 non-null    object        \n",
      " 7   wealth_segment                       715 non-null    object        \n",
      " 8   deceased_indicator                   715 non-null    object        \n",
      " 9   owns_car                             715 non-null    object        \n",
      " 10  tenure                               715 non-null    int64         \n",
      " 11  address                              715 non-null    object        \n",
      " 12  postcode                             715 non-null    int64         \n",
      " 13  state                                715 non-null    object        \n",
      " 14  country                              715 non-null    object        \n",
      " 15  property_valuation                   715 non-null    int64         \n",
      " 16  Unnamed: 16                          715 non-null    float64       \n",
      " 17  Unnamed: 17                          715 non-null    float64       \n",
      " 18  Unnamed: 18                          715 non-null    float64       \n",
      " 19  Unnamed: 19                          715 non-null    float64       \n",
      " 20  Unnamed: 20                          715 non-null    int64         \n",
      " 21  Rank                                 715 non-null    int64         \n",
      " 22  Value                                715 non-null    float64       \n",
      "dtypes: datetime64[ns](1), float64(5), int64(6), object(11)\n",
      "memory usage: 134.1+ KB\n",
      "<class 'pandas.core.frame.DataFrame'>\n",
      "Int64Index: 19445 entries, 0 to 19999\n",
      "Data columns (total 14 columns):\n",
      " #   Column                   Non-Null Count  Dtype         \n",
      "---  ------                   --------------  -----         \n",
      " 0   transaction_id           19445 non-null  int64         \n",
      " 1   product_id               19445 non-null  int64         \n",
      " 2   customer_id              19445 non-null  int64         \n",
      " 3   transaction_date         19445 non-null  datetime64[ns]\n",
      " 4   online_order             19445 non-null  float64       \n",
      " 5   order_status             19445 non-null  object        \n",
      " 6   brand                    19445 non-null  object        \n",
      " 7   product_line             19445 non-null  object        \n",
      " 8   product_class            19445 non-null  object        \n",
      " 9   product_size             19445 non-null  object        \n",
      " 10  list_price               19445 non-null  float64       \n",
      " 11  standard_cost            19445 non-null  float64       \n",
      " 12  Profit                   19445 non-null  float64       \n",
      " 13  product_first_sold_date  19445 non-null  datetime64[ns]\n",
      "dtypes: datetime64[ns](2), float64(4), int64(3), object(5)\n",
      "memory usage: 2.2+ MB\n",
      "<class 'pandas.core.frame.DataFrame'>\n",
      "Int64Index: 2779 entries, 0 to 3911\n",
      "Data columns (total 13 columns):\n",
      " #   Column                               Non-Null Count  Dtype         \n",
      "---  ------                               --------------  -----         \n",
      " 0   customer_id                          2779 non-null   int64         \n",
      " 1   first_name                           2779 non-null   object        \n",
      " 2   last_name                            2779 non-null   object        \n",
      " 3   gender                               2779 non-null   object        \n",
      " 4   past_3_years_bike_related_purchases  2779 non-null   int64         \n",
      " 5   DOB                                  2779 non-null   datetime64[ns]\n",
      " 6   Age                                  2779 non-null   float64       \n",
      " 7   job_title                            2779 non-null   object        \n",
      " 8   job_industry_category                2779 non-null   object        \n",
      " 9   wealth_segment                       2779 non-null   object        \n",
      " 10  deceased_indicator                   2779 non-null   object        \n",
      " 11  owns_car                             2779 non-null   object        \n",
      " 12  tenure                               2779 non-null   float64       \n",
      "dtypes: datetime64[ns](1), float64(2), int64(2), object(8)\n",
      "memory usage: 304.0+ KB\n",
      "<class 'pandas.core.frame.DataFrame'>\n",
      "RangeIndex: 3999 entries, 0 to 3998\n",
      "Data columns (total 6 columns):\n",
      " #   Column              Non-Null Count  Dtype \n",
      "---  ------              --------------  ----- \n",
      " 0   customer_id         3999 non-null   int64 \n",
      " 1   address             3999 non-null   object\n",
      " 2   postcode            3999 non-null   int64 \n",
      " 3   state               3999 non-null   object\n",
      " 4   country             3999 non-null   object\n",
      " 5   property_valuation  3999 non-null   int64 \n",
      "dtypes: int64(3), object(3)\n",
      "memory usage: 187.6+ KB\n"
     ]
    }
   ],
   "source": [
    "NewCustomerList = NewCustomerList0.dropna()\n",
    "Transactions = Transactions0.dropna()\n",
    "CustomerDemographic = CustomerDemographic0.dropna()\n",
    "CustomerAddress = CustomerAddress0.dropna()\n",
    "#===========================================\n",
    "NewCustomerList.info()\n",
    "Transactions.info()\n",
    "CustomerDemographic.info()\n",
    "CustomerAddress.info()"
   ],
   "metadata": {
    "collapsed": false
   }
  },
  {
   "cell_type": "code",
   "execution_count": 65,
   "outputs": [
    {
     "name": "stdout",
     "output_type": "stream",
     "text": [
      "Index(['transaction_id', 'product_id', 'customer_id', 'transaction_date',\n",
      "       'online_order', 'order_status', 'brand', 'product_line',\n",
      "       'product_class', 'product_size', 'list_price', 'standard_cost',\n",
      "       'Profit', 'product_first_sold_date'],\n",
      "      dtype='object')\n",
      "Index(['customer_id', 'first_name', 'last_name', 'gender',\n",
      "       'past_3_years_bike_related_purchases', 'DOB', 'Age', 'job_title',\n",
      "       'job_industry_category', 'wealth_segment', 'deceased_indicator',\n",
      "       'owns_car', 'tenure'],\n",
      "      dtype='object')\n",
      "Index(['customer_id', 'address', 'postcode', 'state', 'country',\n",
      "       'property_valuation'],\n",
      "      dtype='object')\n"
     ]
    }
   ],
   "source": [
    "print(Transactions.columns)\n",
    "print(CustomerDemographic.columns)\n",
    "print(CustomerAddress.columns)"
   ],
   "metadata": {
    "collapsed": false
   }
  },
  {
   "cell_type": "code",
   "execution_count": 66,
   "outputs": [],
   "source": [
    "CustomerDemographic = CustomerDemographic.drop(CustomerDemographic[CustomerDemographic.deceased_indicator==\"Y\"].index)"
   ],
   "metadata": {
    "collapsed": false
   }
  },
  {
   "cell_type": "code",
   "execution_count": 116,
   "outputs": [
    {
     "data": {
      "text/plain": "       product_id transaction_date  online_order order_status product_line  \\\n0               2       2017-02-25           0.0     Approved     Standard   \n1               3       2017-05-21           1.0     Approved     Standard   \n2              37       2017-10-16           0.0     Approved     Standard   \n3              88       2017-08-31           0.0     Approved     Standard   \n4              78       2017-10-01           1.0     Approved     Standard   \n...           ...              ...           ...          ...          ...   \n19995          51       2017-06-24           1.0     Approved     Standard   \n19996          41       2017-11-09           1.0     Approved         Road   \n19997          87       2017-04-14           1.0     Approved     Standard   \n19998           6       2017-07-03           0.0     Approved     Standard   \n19999          11       2017-09-22           1.0     Approved     Standard   \n\n      product_class product_size   Profit product_first_sold_date  \n0            medium       medium    17.87              2012-12-02  \n1            medium        large  1702.55              2014-03-03  \n2               low       medium  1544.61              1999-07-20  \n3            medium       medium   817.36              1998-12-16  \n4            medium        large  1055.82              2015-08-10  \n...             ...          ...      ...                     ...  \n19995          high       medium   802.26              2003-07-21  \n19996        medium       medium   104.24              1997-05-10  \n19997        medium       medium  1592.19              2010-08-20  \n19998          high       medium    91.15              2004-08-17  \n19999        medium        small   195.34              1999-06-23  \n\n[19445 rows x 9 columns]",
      "text/html": "<div>\n<style scoped>\n    .dataframe tbody tr th:only-of-type {\n        vertical-align: middle;\n    }\n\n    .dataframe tbody tr th {\n        vertical-align: top;\n    }\n\n    .dataframe thead th {\n        text-align: right;\n    }\n</style>\n<table border=\"1\" class=\"dataframe\">\n  <thead>\n    <tr style=\"text-align: right;\">\n      <th></th>\n      <th>product_id</th>\n      <th>transaction_date</th>\n      <th>online_order</th>\n      <th>order_status</th>\n      <th>product_line</th>\n      <th>product_class</th>\n      <th>product_size</th>\n      <th>Profit</th>\n      <th>product_first_sold_date</th>\n    </tr>\n  </thead>\n  <tbody>\n    <tr>\n      <th>0</th>\n      <td>2</td>\n      <td>2017-02-25</td>\n      <td>0.0</td>\n      <td>Approved</td>\n      <td>Standard</td>\n      <td>medium</td>\n      <td>medium</td>\n      <td>17.87</td>\n      <td>2012-12-02</td>\n    </tr>\n    <tr>\n      <th>1</th>\n      <td>3</td>\n      <td>2017-05-21</td>\n      <td>1.0</td>\n      <td>Approved</td>\n      <td>Standard</td>\n      <td>medium</td>\n      <td>large</td>\n      <td>1702.55</td>\n      <td>2014-03-03</td>\n    </tr>\n    <tr>\n      <th>2</th>\n      <td>37</td>\n      <td>2017-10-16</td>\n      <td>0.0</td>\n      <td>Approved</td>\n      <td>Standard</td>\n      <td>low</td>\n      <td>medium</td>\n      <td>1544.61</td>\n      <td>1999-07-20</td>\n    </tr>\n    <tr>\n      <th>3</th>\n      <td>88</td>\n      <td>2017-08-31</td>\n      <td>0.0</td>\n      <td>Approved</td>\n      <td>Standard</td>\n      <td>medium</td>\n      <td>medium</td>\n      <td>817.36</td>\n      <td>1998-12-16</td>\n    </tr>\n    <tr>\n      <th>4</th>\n      <td>78</td>\n      <td>2017-10-01</td>\n      <td>1.0</td>\n      <td>Approved</td>\n      <td>Standard</td>\n      <td>medium</td>\n      <td>large</td>\n      <td>1055.82</td>\n      <td>2015-08-10</td>\n    </tr>\n    <tr>\n      <th>...</th>\n      <td>...</td>\n      <td>...</td>\n      <td>...</td>\n      <td>...</td>\n      <td>...</td>\n      <td>...</td>\n      <td>...</td>\n      <td>...</td>\n      <td>...</td>\n    </tr>\n    <tr>\n      <th>19995</th>\n      <td>51</td>\n      <td>2017-06-24</td>\n      <td>1.0</td>\n      <td>Approved</td>\n      <td>Standard</td>\n      <td>high</td>\n      <td>medium</td>\n      <td>802.26</td>\n      <td>2003-07-21</td>\n    </tr>\n    <tr>\n      <th>19996</th>\n      <td>41</td>\n      <td>2017-11-09</td>\n      <td>1.0</td>\n      <td>Approved</td>\n      <td>Road</td>\n      <td>medium</td>\n      <td>medium</td>\n      <td>104.24</td>\n      <td>1997-05-10</td>\n    </tr>\n    <tr>\n      <th>19997</th>\n      <td>87</td>\n      <td>2017-04-14</td>\n      <td>1.0</td>\n      <td>Approved</td>\n      <td>Standard</td>\n      <td>medium</td>\n      <td>medium</td>\n      <td>1592.19</td>\n      <td>2010-08-20</td>\n    </tr>\n    <tr>\n      <th>19998</th>\n      <td>6</td>\n      <td>2017-07-03</td>\n      <td>0.0</td>\n      <td>Approved</td>\n      <td>Standard</td>\n      <td>high</td>\n      <td>medium</td>\n      <td>91.15</td>\n      <td>2004-08-17</td>\n    </tr>\n    <tr>\n      <th>19999</th>\n      <td>11</td>\n      <td>2017-09-22</td>\n      <td>1.0</td>\n      <td>Approved</td>\n      <td>Standard</td>\n      <td>medium</td>\n      <td>small</td>\n      <td>195.34</td>\n      <td>1999-06-23</td>\n    </tr>\n  </tbody>\n</table>\n<p>19445 rows × 9 columns</p>\n</div>"
     },
     "execution_count": 116,
     "metadata": {},
     "output_type": "execute_result"
    }
   ],
   "source": [
    "infoCustomerDemo = CustomerDemographic[[\"customer_id\", \"gender\",\"Age\",\"past_3_years_bike_related_purchases\", \"job_industry_category\", \"wealth_segment\", \"owns_car\", \"tenure\"]]\n",
    "infoTransactions = Transactions[[\"product_id\", \"transaction_date\", \"online_order\", \"order_status\", \"product_line\", \"product_class\", \"product_size\", \"Profit\", \"product_first_sold_date\"]]\n",
    "infoAddress = CustomerAddress[[\"state\", \"property_valuation\"]]\n",
    "combined_data1 = pd.merge(infoCustomerDemo, infoAddress, left_index=True, right_index=True)\n",
    "# combined_data2 = pd.merge(combined_data1, infoAddress, left_index=True, right_index=True)\n",
    "combined_data1.dropna()\n",
    "infoTransactions.dropna()\n",
    "# combined_data1.info()"
   ],
   "metadata": {
    "collapsed": false
   }
  },
  {
   "cell_type": "code",
   "execution_count": 117,
   "outputs": [
    {
     "name": "stdout",
     "output_type": "stream",
     "text": [
      "<class 'pandas.core.frame.DataFrame'>\n",
      "Int64Index: 2777 entries, 0 to 3911\n",
      "Data columns (total 10 columns):\n",
      " #   Column                               Non-Null Count  Dtype  \n",
      "---  ------                               --------------  -----  \n",
      " 0   customer_id                          2777 non-null   int64  \n",
      " 1   gender                               2777 non-null   int64  \n",
      " 2   Age                                  2777 non-null   float64\n",
      " 3   past_3_years_bike_related_purchases  2777 non-null   int64  \n",
      " 4   job_industry_category                2777 non-null   object \n",
      " 5   wealth_segment                       2777 non-null   object \n",
      " 6   owns_car                             2777 non-null   int64  \n",
      " 7   tenure                               2777 non-null   float64\n",
      " 8   state                                2777 non-null   object \n",
      " 9   property_valuation                   2777 non-null   int64  \n",
      "dtypes: float64(2), int64(5), object(3)\n",
      "memory usage: 238.6+ KB\n"
     ]
    }
   ],
   "source": [
    "combined_data1[\"gender\"].replace(\"Female\", 1,inplace=True)\n",
    "combined_data1[\"gender\"].replace(\"Male\", 0,inplace=True)\n",
    "combined_data1[\"owns_car\"].replace(\"Yes\", 1,inplace=True)\n",
    "combined_data1[\"owns_car\"].replace(\"No\", 0,inplace=True)\n",
    "combined_data1[\"owns_car\"] = pd.to_numeric(combined_data1[\"owns_car\"], errors='coerce')\n",
    "combined_data1[\"gender\"] = pd.to_numeric(combined_data1[\"gender\"], errors='coerce')\n",
    "combined_data1.info()"
   ],
   "metadata": {
    "collapsed": false
   }
  },
  {
   "cell_type": "code",
   "execution_count": 119,
   "outputs": [
    {
     "name": "stdout",
     "output_type": "stream",
     "text": [
      "<class 'pandas.core.frame.DataFrame'>\n",
      "Int64Index: 19445 entries, 0 to 19999\n",
      "Data columns (total 9 columns):\n",
      " #   Column                   Non-Null Count  Dtype         \n",
      "---  ------                   --------------  -----         \n",
      " 0   product_id               19445 non-null  int64         \n",
      " 1   transaction_date         19445 non-null  datetime64[ns]\n",
      " 2   online_order             19445 non-null  float64       \n",
      " 3   order_status             19445 non-null  int64         \n",
      " 4   product_line             19445 non-null  object        \n",
      " 5   product_class            19445 non-null  object        \n",
      " 6   product_size             19445 non-null  object        \n",
      " 7   Profit                   19445 non-null  float64       \n",
      " 8   product_first_sold_date  19445 non-null  datetime64[ns]\n",
      "dtypes: datetime64[ns](2), float64(2), int64(2), object(3)\n",
      "memory usage: 2.0+ MB\n"
     ]
    },
    {
     "name": "stderr",
     "output_type": "stream",
     "text": [
      "C:\\Users\\M1820\\AppData\\Local\\Temp\\ipykernel_12164\\2662831273.py:1: SettingWithCopyWarning: \n",
      "A value is trying to be set on a copy of a slice from a DataFrame\n",
      "\n",
      "See the caveats in the documentation: https://pandas.pydata.org/pandas-docs/stable/user_guide/indexing.html#returning-a-view-versus-a-copy\n",
      "  infoTransactions['online_order'].replace('TRUE', 1, inplace=True)\n",
      "C:\\Users\\M1820\\AppData\\Local\\Temp\\ipykernel_12164\\2662831273.py:2: SettingWithCopyWarning: \n",
      "A value is trying to be set on a copy of a slice from a DataFrame\n",
      "\n",
      "See the caveats in the documentation: https://pandas.pydata.org/pandas-docs/stable/user_guide/indexing.html#returning-a-view-versus-a-copy\n",
      "  infoTransactions['online_order'].replace('FALSE', 0, inplace=True)\n",
      "C:\\Users\\M1820\\AppData\\Local\\Temp\\ipykernel_12164\\2662831273.py:3: SettingWithCopyWarning: \n",
      "A value is trying to be set on a copy of a slice from a DataFrame\n",
      "\n",
      "See the caveats in the documentation: https://pandas.pydata.org/pandas-docs/stable/user_guide/indexing.html#returning-a-view-versus-a-copy\n",
      "  infoTransactions['order_status'].replace('Approved', 1, inplace=True)\n",
      "C:\\Users\\M1820\\AppData\\Local\\Temp\\ipykernel_12164\\2662831273.py:4: SettingWithCopyWarning: \n",
      "A value is trying to be set on a copy of a slice from a DataFrame\n",
      "\n",
      "See the caveats in the documentation: https://pandas.pydata.org/pandas-docs/stable/user_guide/indexing.html#returning-a-view-versus-a-copy\n",
      "  infoTransactions['order_status'].replace('Cancelled', 0, inplace=True)\n"
     ]
    }
   ],
   "source": [
    "infoTransactions['online_order'].replace('TRUE', 1, inplace=True)\n",
    "infoTransactions['online_order'].replace('FALSE', 0, inplace=True)\n",
    "infoTransactions['order_status'].replace('Approved', 1, inplace=True)\n",
    "infoTransactions['order_status'].replace('Cancelled', 0, inplace=True)\n",
    "infoTransactions.info()"
   ],
   "metadata": {
    "collapsed": false
   }
  },
  {
   "cell_type": "code",
   "execution_count": 124,
   "outputs": [
    {
     "name": "stdout",
     "output_type": "stream",
     "text": [
      "Index(['product_line', 'product_class', 'product_size'], dtype='object')\n",
      "product_line:['Standard' 'Road' 'Mountain' 'Touring']\n",
      "product_class:['medium' 'low' 'high']\n",
      "product_size:['medium' 'large' 'small']\n"
     ]
    }
   ],
   "source": [
    "obj_column = infoTransactions.select_dtypes('object').columns\n",
    "print(obj_column)\n",
    "for obj in obj_column :\n",
    "    print(f'{obj}:{infoTransactions[obj].unique()}')"
   ],
   "metadata": {
    "collapsed": false
   }
  },
  {
   "cell_type": "code",
   "execution_count": 85,
   "outputs": [
    {
     "data": {
      "text/plain": "Timestamp('2017-12-30 00:00:00')"
     },
     "execution_count": 85,
     "metadata": {},
     "output_type": "execute_result"
    }
   ],
   "source": [
    "most_recent_purchase = infoTransactions['transaction_date'].max()\n",
    "most_recent_purchase"
   ],
   "metadata": {
    "collapsed": false
   }
  },
  {
   "cell_type": "code",
   "execution_count": 77,
   "outputs": [
    {
     "name": "stderr",
     "output_type": "stream",
     "text": [
      "C:\\Users\\M1820\\AppData\\Local\\Temp\\ipykernel_12164\\589851160.py:1: FutureWarning: The default value of numeric_only in DataFrame.corr is deprecated. In a future version, it will default to False. Select only valid columns or specify the value of numeric_only to silence this warning.\n",
      "  infoTransactions.corr()\n"
     ]
    },
    {
     "data": {
      "text/plain": "              product_id  online_order    Profit\nproduct_id      1.000000     -0.005471  0.074491\nonline_order   -0.005471      1.000000 -0.006798\nProfit          0.074491     -0.006798  1.000000",
      "text/html": "<div>\n<style scoped>\n    .dataframe tbody tr th:only-of-type {\n        vertical-align: middle;\n    }\n\n    .dataframe tbody tr th {\n        vertical-align: top;\n    }\n\n    .dataframe thead th {\n        text-align: right;\n    }\n</style>\n<table border=\"1\" class=\"dataframe\">\n  <thead>\n    <tr style=\"text-align: right;\">\n      <th></th>\n      <th>product_id</th>\n      <th>online_order</th>\n      <th>Profit</th>\n    </tr>\n  </thead>\n  <tbody>\n    <tr>\n      <th>product_id</th>\n      <td>1.000000</td>\n      <td>-0.005471</td>\n      <td>0.074491</td>\n    </tr>\n    <tr>\n      <th>online_order</th>\n      <td>-0.005471</td>\n      <td>1.000000</td>\n      <td>-0.006798</td>\n    </tr>\n    <tr>\n      <th>Profit</th>\n      <td>0.074491</td>\n      <td>-0.006798</td>\n      <td>1.000000</td>\n    </tr>\n  </tbody>\n</table>\n</div>"
     },
     "execution_count": 77,
     "metadata": {},
     "output_type": "execute_result"
    }
   ],
   "source": [
    "infoTransactions.corr()"
   ],
   "metadata": {
    "collapsed": false
   }
  }
 ],
 "metadata": {
  "kernelspec": {
   "display_name": "Python 3",
   "language": "python",
   "name": "python3"
  },
  "language_info": {
   "codemirror_mode": {
    "name": "ipython",
    "version": 2
   },
   "file_extension": ".py",
   "mimetype": "text/x-python",
   "name": "python",
   "nbconvert_exporter": "python",
   "pygments_lexer": "ipython2",
   "version": "2.7.6"
  }
 },
 "nbformat": 4,
 "nbformat_minor": 0
}
